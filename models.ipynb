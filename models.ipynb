{
 "cells": [
  {
   "cell_type": "markdown",
   "metadata": {},
   "source": [
    "Author: Yanyu Long  \n",
    "Updated: May 16, 2021"
   ]
  },
  {
   "cell_type": "code",
   "execution_count": 1,
   "metadata": {
    "ExecuteTime": {
     "end_time": "2021-05-15T13:49:10.447510Z",
     "start_time": "2021-05-15T13:49:09.910876Z"
    }
   },
   "outputs": [],
   "source": [
    "import numpy as np\n",
    "import pandas as pd\n",
    "import matplotlib.pyplot as plt # ROC curve\n",
    "\n",
    "def expand_grid(data_dict):\n",
    "    import itertools\n",
    "    import pandas as pd\n",
    "    rows = itertools.product(*data_dict.values())\n",
    "    return pd.DataFrame.from_records(rows, columns = data_dict.keys())\n",
    "\n",
    "def evaluate(ypred_prob, ytrue, thres = 0.5): \n",
    "    import numpy as np\n",
    "    from sklearn import metrics\n",
    "    ypred = (ypred_prob > thres)\n",
    "    TP = sum((ypred == 1) & (ytrue == 1))\n",
    "    FP = sum((ypred == 1) & (ytrue == 0))\n",
    "    FN = sum((ypred == 0) & (ytrue == 1))\n",
    "    TN = sum((ypred == 0) & (ytrue == 0))\n",
    "    fpr, tpr, thresholds = metrics.roc_curve(ytrue, ypred_prob)\n",
    "    return dict(Acc = np.mean(ypred != ytrue), \n",
    "                TP = TP, FP = FP, FN = FN, TN = TN, \n",
    "                BER = 0.5 * (FP/(TN+FP) + FN/(FN+TP)),\n",
    "                AUC = metrics.auc(fpr, tpr),\n",
    "                fpr = fpr, tpr = tpr\n",
    "                )"
   ]
  },
  {
   "cell_type": "markdown",
   "metadata": {},
   "source": [
    "One-hot encoding categorical variables [(ref)](https://towardsdatascience.com/categorical-encoding-using-label-encoding-and-one-hot-encoder-911ef77fb5bd)  \n",
    "\n",
    "* `pd.get_dummies`\n",
    "* sklearn.preprocessing.OneHotEncoder\n",
    "\n",
    "```python\n",
    "from sklearn.preprocessing import OneHotEncoder\n",
    "encoder = OneHotEncoder()\n",
    "pd.DataFrame(encoder.fit_transform(df_train[[\"state\"]]).toarray())\n",
    "pd.DataFrame(encoder.transform(df_test[[\"state\"]]).toarray())\n",
    "```"
   ]
  },
  {
   "cell_type": "code",
   "execution_count": 105,
   "metadata": {
    "ExecuteTime": {
     "end_time": "2021-05-15T16:49:09.832770Z",
     "start_time": "2021-05-15T16:49:09.747976Z"
    }
   },
   "outputs": [
    {
     "data": {
      "text/plain": [
       "(1254, 32)"
      ]
     },
     "execution_count": 105,
     "metadata": {},
     "output_type": "execute_result"
    },
    {
     "data": {
      "text/plain": [
       "(417, 32)"
      ]
     },
     "execution_count": 105,
     "metadata": {},
     "output_type": "execute_result"
    }
   ],
   "source": [
    "df_train = pd.read_csv(\"data/merged_train.csv\").drop([\"ym\", \"city\", \"county\", \"num_episodes\"], axis = 1).dropna().reset_index(drop = True)\n",
    "df_test = pd.read_csv(\"data/merged_test.csv\").drop([\"ym\", \"city\", \"county\", \"num_episodes\"], axis = 1).dropna().reset_index(drop = True)\n",
    "x_train = pd.get_dummies(df_train.drop(\"outcome\", axis = 1), columns = [\"state\"], prefix = [\"state\"]); x_train.shape\n",
    "y_train = df_train[\"outcome\"]\n",
    "x_test = pd.get_dummies(df_test.drop(\"outcome\", axis = 1), columns = [\"state\"], prefix = [\"state\"]); x_test.shape\n",
    "y_test = df_test[\"outcome\"]"
   ]
  },
  {
   "cell_type": "code",
   "execution_count": 116,
   "metadata": {
    "ExecuteTime": {
     "end_time": "2021-05-15T16:57:57.650483Z",
     "start_time": "2021-05-15T16:57:57.603556Z"
    }
   },
   "outputs": [
    {
     "name": "stderr",
     "output_type": "stream",
     "text": [
      "D:\\Anaconda3\\lib\\site-packages\\sklearn\\linear_model\\logistic.py:433: FutureWarning: Default solver will be changed to 'lbfgs' in 0.22. Specify a solver to silence this warning.\n",
      "  FutureWarning)\n"
     ]
    },
    {
     "data": {
      "text/plain": [
       "LogisticRegression(C=1.0, class_weight=None, dual=False, fit_intercept=True,\n",
       "          intercept_scaling=1, max_iter=100, multi_class='warn',\n",
       "          n_jobs=None, penalty='l2', random_state=None, solver='warn',\n",
       "          tol=0.0001, verbose=0, warm_start=False)"
      ]
     },
     "execution_count": 116,
     "metadata": {},
     "output_type": "execute_result"
    }
   ],
   "source": [
    "from sklearn.linear_model import LogisticRegression\n",
    "clf = LogisticRegression()\n",
    "clf.fit(x_train, y_train)\n",
    "eval_train = evaluate(ypred_prob = pd.Series([item[1] for item in clf.predict_proba(x_train)]), \n",
    "                      ytrue = y_train, thres = 0.5)\n",
    "# plt.plot(eval_train[\"fpr\"], eval_train[\"tpr\"], marker='.'); plt.show()"
   ]
  },
  {
   "cell_type": "code",
   "execution_count": 14,
   "metadata": {
    "ExecuteTime": {
     "end_time": "2021-05-15T14:11:49.082664Z",
     "start_time": "2021-05-15T14:11:41.321882Z"
    }
   },
   "outputs": [
    {
     "data": {
      "text/plain": [
       "LabelEncoder()"
      ]
     },
     "execution_count": 14,
     "metadata": {},
     "output_type": "execute_result"
    },
    {
     "data": {
      "text/plain": [
       "array([16, 12, 11, ...,  1,  7,  8])"
      ]
     },
     "execution_count": 14,
     "metadata": {},
     "output_type": "execute_result"
    }
   ],
   "source": [
    "from sklearn.linear_model import LogisticRegression\n",
    "from sklearn.naive_bayes import GaussianNB\n",
    "from sklearn.neighbors import KNeighborsClassifier\n",
    "from sklearn.tree import DecisionTreeClassifier\n",
    "from sklearn.ensemble import AdaBoostClassifier, RandomForestClassifier\n",
    "from sklearn.svm import SVC\n",
    "from sklearn.neural_network import MLPClassifier\n",
    "\n",
    "classifiers = [\n",
    "    LogisticRegression(),\n",
    "    GaussianNB(),\n",
    "    KNeighborsClassifier(3),\n",
    "    DecisionTreeClassifier(max_depth=5),\n",
    "    AdaBoostClassifier(),\n",
    "    RandomForestClassifier(max_depth=5, n_estimators=10, max_features=1),\n",
    "    SVC(gamma=2, C=1),\n",
    "    MLPClassifier(alpha=1, max_iter=1000)\n",
    "]"
   ]
  }
 ],
 "metadata": {
  "kernelspec": {
   "display_name": "Python 3",
   "language": "python",
   "name": "python3"
  },
  "language_info": {
   "codemirror_mode": {
    "name": "ipython",
    "version": 3
   },
   "file_extension": ".py",
   "mimetype": "text/x-python",
   "name": "python",
   "nbconvert_exporter": "python",
   "pygments_lexer": "ipython3",
   "version": "3.7.1"
  },
  "toc": {
   "base_numbering": 1,
   "nav_menu": {},
   "number_sections": true,
   "sideBar": true,
   "skip_h1_title": false,
   "title_cell": "Table of Contents",
   "title_sidebar": "Contents",
   "toc_cell": false,
   "toc_position": {},
   "toc_section_display": true,
   "toc_window_display": false
  }
 },
 "nbformat": 4,
 "nbformat_minor": 2
}
